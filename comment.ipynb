{
 "cells": [
  {
   "cell_type": "code",
   "execution_count": 1,
   "metadata": {},
   "outputs": [],
   "source": [
    "import numpy as np\n",
    "import pandas as pd\n",
    "import re\n",
    "from nltk.corpus import stopwords\n",
    "from nltk.stem.porter import PorterStemmer\n",
    "import gensim"
   ]
  },
  {
   "cell_type": "code",
   "execution_count": 2,
   "metadata": {},
   "outputs": [],
   "source": [
    "df = pd.read_csv('nightoffullmoon-1.csv')"
   ]
  },
  {
   "cell_type": "code",
   "execution_count": 3,
   "metadata": {},
   "outputs": [
    {
     "data": {
      "text/html": [
       "<div>\n",
       "<style scoped>\n",
       "    .dataframe tbody tr th:only-of-type {\n",
       "        vertical-align: middle;\n",
       "    }\n",
       "\n",
       "    .dataframe tbody tr th {\n",
       "        vertical-align: top;\n",
       "    }\n",
       "\n",
       "    .dataframe thead th {\n",
       "        text-align: right;\n",
       "    }\n",
       "</style>\n",
       "<table border=\"1\" class=\"dataframe\">\n",
       "  <thead>\n",
       "    <tr style=\"text-align: right;\">\n",
       "      <th></th>\n",
       "      <th>date</th>\n",
       "      <th>review</th>\n",
       "      <th>star</th>\n",
       "      <th>res</th>\n",
       "    </tr>\n",
       "  </thead>\n",
       "  <tbody>\n",
       "    <tr>\n",
       "      <th>0</th>\n",
       "      <td>October 3, 2020</td>\n",
       "      <td>Entertaining and somewhat difficult but not to...</td>\n",
       "      <td>5</td>\n",
       "      <td>Giant NetworkOctober 9, 2020Thank you for your...</td>\n",
       "    </tr>\n",
       "    <tr>\n",
       "      <th>1</th>\n",
       "      <td>October 19, 2020</td>\n",
       "      <td>This is undoubtedly the best game in the app s...</td>\n",
       "      <td>5</td>\n",
       "      <td>Giant NetworkOctober 19, 2020Thank you for you...</td>\n",
       "    </tr>\n",
       "    <tr>\n",
       "      <th>2</th>\n",
       "      <td>August 8, 2020</td>\n",
       "      <td>Love the game. Only phone game I ever spent mo...</td>\n",
       "      <td>5</td>\n",
       "      <td>Giant NetworkAugust 10, 2020Hello. Thank you f...</td>\n",
       "    </tr>\n",
       "    <tr>\n",
       "      <th>3</th>\n",
       "      <td>May 15, 2019</td>\n",
       "      <td>I've lost all content that I paid for. Sdk log...</td>\n",
       "      <td>1</td>\n",
       "      <td>Giant NetworkMay 15, 2019Hi, Sorry about the i...</td>\n",
       "    </tr>\n",
       "    <tr>\n",
       "      <th>4</th>\n",
       "      <td>October 1, 2020</td>\n",
       "      <td>Have only played for an hour or so but I reall...</td>\n",
       "      <td>5</td>\n",
       "      <td>Giant NetworkOctober 9, 2020Good day to you! T...</td>\n",
       "    </tr>\n",
       "  </tbody>\n",
       "</table>\n",
       "</div>"
      ],
      "text/plain": [
       "               date                                             review  star  \\\n",
       "0   October 3, 2020  Entertaining and somewhat difficult but not to...     5   \n",
       "1  October 19, 2020  This is undoubtedly the best game in the app s...     5   \n",
       "2    August 8, 2020  Love the game. Only phone game I ever spent mo...     5   \n",
       "3      May 15, 2019  I've lost all content that I paid for. Sdk log...     1   \n",
       "4   October 1, 2020  Have only played for an hour or so but I reall...     5   \n",
       "\n",
       "                                                 res  \n",
       "0  Giant NetworkOctober 9, 2020Thank you for your...  \n",
       "1  Giant NetworkOctober 19, 2020Thank you for you...  \n",
       "2  Giant NetworkAugust 10, 2020Hello. Thank you f...  \n",
       "3  Giant NetworkMay 15, 2019Hi, Sorry about the i...  \n",
       "4  Giant NetworkOctober 9, 2020Good day to you! T...  "
      ]
     },
     "execution_count": 3,
     "metadata": {},
     "output_type": "execute_result"
    }
   ],
   "source": [
    "df.head()"
   ]
  },
  {
   "cell_type": "code",
   "execution_count": 4,
   "metadata": {},
   "outputs": [],
   "source": [
    "df = df.dropna()"
   ]
  },
  {
   "cell_type": "code",
   "execution_count": 5,
   "metadata": {},
   "outputs": [],
   "source": [
    "rate5 = df[df['star'] == 5]"
   ]
  },
  {
   "cell_type": "code",
   "execution_count": 6,
   "metadata": {},
   "outputs": [],
   "source": [
    "documents = df[df['star'] != 5]"
   ]
  },
  {
   "cell_type": "code",
   "execution_count": 7,
   "metadata": {},
   "outputs": [
    {
     "data": {
      "text/html": [
       "<div>\n",
       "<style scoped>\n",
       "    .dataframe tbody tr th:only-of-type {\n",
       "        vertical-align: middle;\n",
       "    }\n",
       "\n",
       "    .dataframe tbody tr th {\n",
       "        vertical-align: top;\n",
       "    }\n",
       "\n",
       "    .dataframe thead th {\n",
       "        text-align: right;\n",
       "    }\n",
       "</style>\n",
       "<table border=\"1\" class=\"dataframe\">\n",
       "  <thead>\n",
       "    <tr style=\"text-align: right;\">\n",
       "      <th></th>\n",
       "      <th>date</th>\n",
       "      <th>review</th>\n",
       "      <th>star</th>\n",
       "      <th>res</th>\n",
       "    </tr>\n",
       "  </thead>\n",
       "  <tbody>\n",
       "    <tr>\n",
       "      <th>3</th>\n",
       "      <td>May 15, 2019</td>\n",
       "      <td>I've lost all content that I paid for. Sdk log...</td>\n",
       "      <td>1</td>\n",
       "      <td>Giant NetworkMay 15, 2019Hi, Sorry about the i...</td>\n",
       "    </tr>\n",
       "    <tr>\n",
       "      <th>6</th>\n",
       "      <td>May 4, 2020</td>\n",
       "      <td>this game was originally a game you could play...</td>\n",
       "      <td>2</td>\n",
       "      <td>Giant NetworkMay 4, 2020Hello, dear Madi. Than...</td>\n",
       "    </tr>\n",
       "    <tr>\n",
       "      <th>7</th>\n",
       "      <td>October 30, 2020</td>\n",
       "      <td>The Nature Spirit boss fight is hella buggy. A...</td>\n",
       "      <td>3</td>\n",
       "      <td>Giant NetworkOctober 30, 2020We are sorry to h...</td>\n",
       "    </tr>\n",
       "    <tr>\n",
       "      <th>10</th>\n",
       "      <td>September 10, 2020</td>\n",
       "      <td>Wish there was at least 2 other classes &amp; path...</td>\n",
       "      <td>2</td>\n",
       "      <td>Giant NetworkSeptember 11, 2020Thank you for s...</td>\n",
       "    </tr>\n",
       "    <tr>\n",
       "      <th>11</th>\n",
       "      <td>November 25, 2020</td>\n",
       "      <td>Good game. Still has glitches after beta. You ...</td>\n",
       "      <td>4</td>\n",
       "      <td>Giant NetworkNovember 27, 2020We're so happy t...</td>\n",
       "    </tr>\n",
       "  </tbody>\n",
       "</table>\n",
       "</div>"
      ],
      "text/plain": [
       "                  date                                             review  \\\n",
       "3         May 15, 2019  I've lost all content that I paid for. Sdk log...   \n",
       "6          May 4, 2020  this game was originally a game you could play...   \n",
       "7     October 30, 2020  The Nature Spirit boss fight is hella buggy. A...   \n",
       "10  September 10, 2020  Wish there was at least 2 other classes & path...   \n",
       "11   November 25, 2020  Good game. Still has glitches after beta. You ...   \n",
       "\n",
       "    star                                                res  \n",
       "3      1  Giant NetworkMay 15, 2019Hi, Sorry about the i...  \n",
       "6      2  Giant NetworkMay 4, 2020Hello, dear Madi. Than...  \n",
       "7      3  Giant NetworkOctober 30, 2020We are sorry to h...  \n",
       "10     2  Giant NetworkSeptember 11, 2020Thank you for s...  \n",
       "11     4  Giant NetworkNovember 27, 2020We're so happy t...  "
      ]
     },
     "execution_count": 7,
     "metadata": {},
     "output_type": "execute_result"
    }
   ],
   "source": [
    "documents.head()"
   ]
  },
  {
   "cell_type": "code",
   "execution_count": 8,
   "metadata": {},
   "outputs": [
    {
     "data": {
      "text/plain": [
       "3      I've lost all content that I paid for. Sdk log...\n",
       "6      this game was originally a game you could play...\n",
       "7      The Nature Spirit boss fight is hella buggy. A...\n",
       "10     Wish there was at least 2 other classes & path...\n",
       "11     Good game. Still has glitches after beta. You ...\n",
       "                             ...                        \n",
       "391    1)1 star. WHY paid for full Dlc yet still need...\n",
       "392    The lack of sufficent healing tiles and sudden...\n",
       "394    Despite the many clear issues that the other r...\n",
       "396    What the hell is your issue with the afterimag...\n",
       "398    just a quick warning for you guys here. i got ...\n",
       "Name: review, Length: 192, dtype: object"
      ]
     },
     "execution_count": 8,
     "metadata": {},
     "output_type": "execute_result"
    }
   ],
   "source": [
    "documents['review']"
   ]
  },
  {
   "cell_type": "code",
   "execution_count": 9,
   "metadata": {},
   "outputs": [],
   "source": [
    "stop = stopwords.words('english')"
   ]
  },
  {
   "cell_type": "code",
   "execution_count": 10,
   "metadata": {},
   "outputs": [],
   "source": [
    "corpus=[]\n",
    "for doc in documents.review:\n",
    "    text=re.sub('[^a-zA-z]',' ', doc)\n",
    "    text=text.lower()\n",
    "    text=text.split()\n",
    "    text=[PorterStemmer().stem(word) for word in text if not word in stop]\n",
    "    text=' '.join(text)\n",
    "    corpus.append(text)"
   ]
  },
  {
   "cell_type": "code",
   "execution_count": 11,
   "metadata": {},
   "outputs": [
    {
     "name": "stderr",
     "output_type": "stream",
     "text": [
      "C:\\Users\\ideapad 330\\Anaconda3\\lib\\site-packages\\ipykernel_launcher.py:1: SettingWithCopyWarning: \n",
      "A value is trying to be set on a copy of a slice from a DataFrame.\n",
      "Try using .loc[row_indexer,col_indexer] = value instead\n",
      "\n",
      "See the caveats in the documentation: https://pandas.pydata.org/pandas-docs/stable/user_guide/indexing.html#returning-a-view-versus-a-copy\n",
      "  \"\"\"Entry point for launching an IPython kernel.\n"
     ]
    }
   ],
   "source": [
    "documents['clean_content'] = corpus"
   ]
  },
  {
   "cell_type": "code",
   "execution_count": 12,
   "metadata": {},
   "outputs": [],
   "source": [
    "processed_docs = documents.clean_content.str.split()"
   ]
  },
  {
   "cell_type": "code",
   "execution_count": 13,
   "metadata": {},
   "outputs": [
    {
     "data": {
      "text/plain": [
       "3      [lost, content, paid, sdk, login, failur, plea...\n",
       "6      [game, origin, game, could, play, offlin, need...\n",
       "7      [natur, spirit, boss, fight, hella, buggi, los...\n",
       "10     [wish, least, class, path, play, realli, disap...\n",
       "11     [good, game, still, glitch, beta, cannot, spec...\n",
       "                             ...                        \n",
       "391    [star, paid, full, dlc, yet, still, need, see,...\n",
       "392    [lack, suffic, heal, tile, sudden, strong, unp...\n",
       "394    [despit, mani, clear, issu, review, point, giv...\n",
       "396    [hell, issu, afterimag, boss, total, health, p...\n",
       "398    [quick, warn, guy, got, dlc, older, version, g...\n",
       "Name: clean_content, Length: 192, dtype: object"
      ]
     },
     "execution_count": 13,
     "metadata": {},
     "output_type": "execute_result"
    }
   ],
   "source": [
    "processed_docs"
   ]
  },
  {
   "cell_type": "code",
   "execution_count": 14,
   "metadata": {},
   "outputs": [],
   "source": [
    "dictionary=gensim.corpora.Dictionary(processed_docs)"
   ]
  },
  {
   "cell_type": "code",
   "execution_count": 15,
   "metadata": {},
   "outputs": [],
   "source": [
    "dictionary.filter_extremes(no_below=5,no_above=0.2,keep_n=1000)"
   ]
  },
  {
   "cell_type": "code",
   "execution_count": 16,
   "metadata": {},
   "outputs": [
    {
     "data": {
      "text/plain": [
       "315"
      ]
     },
     "execution_count": 16,
     "metadata": {},
     "output_type": "execute_result"
    }
   ],
   "source": [
    "len(dictionary)"
   ]
  },
  {
   "cell_type": "code",
   "execution_count": 17,
   "metadata": {},
   "outputs": [
    {
     "data": {
      "text/plain": [
       "'order'"
      ]
     },
     "execution_count": 17,
     "metadata": {},
     "output_type": "execute_result"
    }
   ],
   "source": [
    "dictionary[29]"
   ]
  },
  {
   "cell_type": "code",
   "execution_count": 18,
   "metadata": {},
   "outputs": [],
   "source": [
    "bow_corpus=[dictionary.doc2bow(doc) for doc in processed_docs]"
   ]
  },
  {
   "cell_type": "code",
   "execution_count": 19,
   "metadata": {},
   "outputs": [
    {
     "data": {
      "text/plain": [
       "192"
      ]
     },
     "execution_count": 19,
     "metadata": {},
     "output_type": "execute_result"
    }
   ],
   "source": [
    "len(bow_corpus)"
   ]
  },
  {
   "cell_type": "code",
   "execution_count": 20,
   "metadata": {},
   "outputs": [
    {
     "data": {
      "text/plain": [
       "[(20, 1),\n",
       " (27, 1),\n",
       " (53, 3),\n",
       " (70, 1),\n",
       " (89, 1),\n",
       " (90, 1),\n",
       " (97, 1),\n",
       " (104, 1),\n",
       " (113, 1),\n",
       " (136, 1),\n",
       " (166, 1),\n",
       " (181, 1),\n",
       " (184, 1),\n",
       " (195, 1),\n",
       " (218, 1),\n",
       " (256, 1),\n",
       " (262, 2)]"
      ]
     },
     "execution_count": 20,
     "metadata": {},
     "output_type": "execute_result"
    }
   ],
   "source": [
    "bow_corpus[100]"
   ]
  },
  {
   "cell_type": "code",
   "execution_count": 21,
   "metadata": {},
   "outputs": [],
   "source": [
    "from gensim import corpora,models\n",
    "tfidf=models.TfidfModel(bow_corpus)"
   ]
  },
  {
   "cell_type": "code",
   "execution_count": 22,
   "metadata": {},
   "outputs": [],
   "source": [
    "corpus_tfidf=tfidf[bow_corpus]"
   ]
  },
  {
   "cell_type": "code",
   "execution_count": 23,
   "metadata": {},
   "outputs": [
    {
     "data": {
      "text/plain": [
       "[(20, 0.13805358415675822),\n",
       " (27, 0.1409455359954044),\n",
       " (53, 0.5972871652070633),\n",
       " (70, 0.1276219793141063),\n",
       " (89, 0.12525596569969452),\n",
       " (90, 0.17517220796489869),\n",
       " (97, 0.13805358415675822),\n",
       " (104, 0.20675847450021606),\n",
       " (113, 0.192241155811742),\n",
       " (136, 0.16586232408303878),\n",
       " (166, 0.1276219793141063),\n",
       " (181, 0.18037964277151278),\n",
       " (184, 0.17517220796489869),\n",
       " (195, 0.1409455359954044),\n",
       " (218, 0.23733606650462016),\n",
       " (256, 0.23733606650462016),\n",
       " (262, 0.45094910692878193)]"
      ]
     },
     "execution_count": 23,
     "metadata": {},
     "output_type": "execute_result"
    }
   ],
   "source": [
    "corpus_tfidf[100]"
   ]
  },
  {
   "cell_type": "code",
   "execution_count": 44,
   "metadata": {},
   "outputs": [],
   "source": [
    "lda_model_tfidf = gensim.models.LdaMulticore(corpus_tfidf, \n",
    "                                             num_topics=3, \n",
    "                                             id2word = dictionary, \n",
    "                                             passes = 2, \n",
    "                                             workers=4)"
   ]
  },
  {
   "cell_type": "code",
   "execution_count": 45,
   "metadata": {},
   "outputs": [
    {
     "data": {
      "text/plain": [
       "-6.119132324683"
      ]
     },
     "execution_count": 45,
     "metadata": {},
     "output_type": "execute_result"
    }
   ],
   "source": [
    "lda_model_tfidf.log_perplexity(bow_corpus)"
   ]
  },
  {
   "cell_type": "code",
   "execution_count": 46,
   "metadata": {},
   "outputs": [
    {
     "name": "stdout",
     "output_type": "stream",
     "text": [
      "Topic: 0 Word: 0.009*\"star\" + 0.008*\"love\" + 0.008*\"version\" + 0.008*\"still\" + 0.008*\"work\" + 0.008*\"got\" + 0.008*\"gameplay\" + 0.007*\"log\" + 0.007*\"unlock\" + 0.007*\"nice\"\n",
      "\n",
      "\n",
      "Topic: 1 Word: 0.008*\"need\" + 0.008*\"boss\" + 0.008*\"charact\" + 0.008*\"health\" + 0.007*\"beat\" + 0.007*\"deck\" + 0.007*\"enemi\" + 0.007*\"knight\" + 0.007*\"edit\" + 0.006*\"build\"\n",
      "\n",
      "\n",
      "Topic: 2 Word: 0.010*\"content\" + 0.009*\"buy\" + 0.008*\"feel\" + 0.008*\"new\" + 0.007*\"stori\" + 0.007*\"paid\" + 0.007*\"add\" + 0.007*\"enjoy\" + 0.007*\"alreadi\" + 0.007*\"without\"\n",
      "\n",
      "\n"
     ]
    }
   ],
   "source": [
    "for idx, topic in lda_model_tfidf.print_topics(-1):\n",
    "    print(\"Topic: {} Word: {}\".format(idx, topic))\n",
    "    print(\"\\n\")"
   ]
  },
  {
   "cell_type": "code",
   "execution_count": 32,
   "metadata": {},
   "outputs": [],
   "source": [
    "#0. บอสเก่งเกิน\n",
    "#1. บ่นเกมเพลย์\n",
    "#2. ด่า business model ที่เป็น freemium\n",
    "# ด่า business model ต้องจ่ายเพื่อปลดล็อคตัวละคร\n",
    "# ด่า business model ต้องจ่ายเพื่อปลดล็อคตัวละคร และ คอนเท้นต์"
   ]
  },
  {
   "cell_type": "code",
   "execution_count": 47,
   "metadata": {},
   "outputs": [],
   "source": [
    "topic=[]\n",
    "for i in range(len(corpus_tfidf)):\n",
    "    a = lda_model_tfidf[corpus_tfidf[i]]\n",
    "    a.sort(key=lambda x: x[1],reverse=True)\n",
    "    topic.append([l[0] for l in a if l[1]>0.1])"
   ]
  },
  {
   "cell_type": "code",
   "execution_count": 48,
   "metadata": {},
   "outputs": [],
   "source": [
    "T = []\n",
    "for t in topic:\n",
    "    T.extend(t)"
   ]
  },
  {
   "cell_type": "code",
   "execution_count": 49,
   "metadata": {},
   "outputs": [
    {
     "name": "stdout",
     "output_type": "stream",
     "text": [
      "Topic 0 have 61 times\n",
      "Topic 1 have 98 times\n",
      "Topic 2 have 102 times\n"
     ]
    }
   ],
   "source": [
    "for i in set(T):\n",
    "    print(f'Topic {i} have {T.count(i)} times')"
   ]
  },
  {
   "cell_type": "code",
   "execution_count": 50,
   "metadata": {},
   "outputs": [
    {
     "name": "stderr",
     "output_type": "stream",
     "text": [
      "C:\\Users\\ideapad 330\\Anaconda3\\lib\\site-packages\\ipykernel_launcher.py:1: SettingWithCopyWarning: \n",
      "A value is trying to be set on a copy of a slice from a DataFrame.\n",
      "Try using .loc[row_indexer,col_indexer] = value instead\n",
      "\n",
      "See the caveats in the documentation: https://pandas.pydata.org/pandas-docs/stable/user_guide/indexing.html#returning-a-view-versus-a-copy\n",
      "  \"\"\"Entry point for launching an IPython kernel.\n"
     ]
    }
   ],
   "source": [
    "documents['topic'] = topic"
   ]
  },
  {
   "cell_type": "code",
   "execution_count": 51,
   "metadata": {},
   "outputs": [
    {
     "ename": "TypeError",
     "evalue": "unhashable type: 'list'",
     "output_type": "error",
     "traceback": [
      "\u001b[1;31m---------------------------------------------------------------------------\u001b[0m",
      "\u001b[1;31mTypeError\u001b[0m                                 Traceback (most recent call last)",
      "\u001b[1;32mpandas\\_libs\\hashtable_class_helper.pxi\u001b[0m in \u001b[0;36mpandas._libs.hashtable.PyObjectHashTable.map_locations\u001b[1;34m()\u001b[0m\n",
      "\u001b[1;31mTypeError\u001b[0m: unhashable type: 'list'"
     ]
    },
    {
     "name": "stderr",
     "output_type": "stream",
     "text": [
      "Exception ignored in: 'pandas._libs.index.IndexEngine._call_map_locations'\n",
      "Traceback (most recent call last):\n",
      "  File \"pandas\\_libs\\hashtable_class_helper.pxi\", line 1709, in pandas._libs.hashtable.PyObjectHashTable.map_locations\n",
      "TypeError: unhashable type: 'list'\n"
     ]
    },
    {
     "data": {
      "text/plain": [
       "[2]          22\n",
       "[1]          11\n",
       "[0]           9\n",
       "[1, 2]        5\n",
       "[1, 0]        3\n",
       "[0, 2]        2\n",
       "[2, 1]        2\n",
       "[0, 1]        1\n",
       "[2, 1, 0]     1\n",
       "Name: topic, dtype: int64"
      ]
     },
     "execution_count": 51,
     "metadata": {},
     "output_type": "execute_result"
    }
   ],
   "source": [
    "documents[documents['star'] == 1]['topic'].value_counts()"
   ]
  },
  {
   "cell_type": "code",
   "execution_count": 52,
   "metadata": {},
   "outputs": [
    {
     "ename": "TypeError",
     "evalue": "unhashable type: 'list'",
     "output_type": "error",
     "traceback": [
      "\u001b[1;31m---------------------------------------------------------------------------\u001b[0m",
      "\u001b[1;31mTypeError\u001b[0m                                 Traceback (most recent call last)",
      "\u001b[1;32mpandas\\_libs\\hashtable_class_helper.pxi\u001b[0m in \u001b[0;36mpandas._libs.hashtable.PyObjectHashTable.map_locations\u001b[1;34m()\u001b[0m\n",
      "\u001b[1;31mTypeError\u001b[0m: unhashable type: 'list'"
     ]
    },
    {
     "name": "stderr",
     "output_type": "stream",
     "text": [
      "Exception ignored in: 'pandas._libs.index.IndexEngine._call_map_locations'\n",
      "Traceback (most recent call last):\n",
      "  File \"pandas\\_libs\\hashtable_class_helper.pxi\", line 1709, in pandas._libs.hashtable.PyObjectHashTable.map_locations\n",
      "TypeError: unhashable type: 'list'\n"
     ]
    },
    {
     "data": {
      "text/plain": [
       "[1]          11\n",
       "[2]           6\n",
       "[0, 2]        3\n",
       "[0]           3\n",
       "[1, 2]        3\n",
       "[2, 1]        2\n",
       "[1, 0]        2\n",
       "[0, 1]        2\n",
       "[1, 2, 0]     1\n",
       "Name: topic, dtype: int64"
      ]
     },
     "execution_count": 52,
     "metadata": {},
     "output_type": "execute_result"
    }
   ],
   "source": [
    "documents[documents['star'] == 2]['topic'].value_counts()"
   ]
  },
  {
   "cell_type": "code",
   "execution_count": 53,
   "metadata": {},
   "outputs": [
    {
     "ename": "TypeError",
     "evalue": "unhashable type: 'list'",
     "output_type": "error",
     "traceback": [
      "\u001b[1;31m---------------------------------------------------------------------------\u001b[0m",
      "\u001b[1;31mTypeError\u001b[0m                                 Traceback (most recent call last)",
      "\u001b[1;32mpandas\\_libs\\hashtable_class_helper.pxi\u001b[0m in \u001b[0;36mpandas._libs.hashtable.PyObjectHashTable.map_locations\u001b[1;34m()\u001b[0m\n",
      "\u001b[1;31mTypeError\u001b[0m: unhashable type: 'list'"
     ]
    },
    {
     "name": "stderr",
     "output_type": "stream",
     "text": [
      "Exception ignored in: 'pandas._libs.index.IndexEngine._call_map_locations'\n",
      "Traceback (most recent call last):\n",
      "  File \"pandas\\_libs\\hashtable_class_helper.pxi\", line 1709, in pandas._libs.hashtable.PyObjectHashTable.map_locations\n",
      "TypeError: unhashable type: 'list'\n"
     ]
    },
    {
     "data": {
      "text/plain": [
       "[2]          9\n",
       "[0]          8\n",
       "[1]          6\n",
       "[1, 2]       5\n",
       "[2, 1]       3\n",
       "[1, 2, 0]    2\n",
       "[0, 2]       1\n",
       "[2, 0, 1]    1\n",
       "[0, 1]       1\n",
       "[1, 0]       1\n",
       "Name: topic, dtype: int64"
      ]
     },
     "execution_count": 53,
     "metadata": {},
     "output_type": "execute_result"
    }
   ],
   "source": [
    "documents[documents['star'] == 3]['topic'].value_counts()"
   ]
  },
  {
   "cell_type": "code",
   "execution_count": 54,
   "metadata": {},
   "outputs": [
    {
     "ename": "TypeError",
     "evalue": "unhashable type: 'list'",
     "output_type": "error",
     "traceback": [
      "\u001b[1;31m---------------------------------------------------------------------------\u001b[0m",
      "\u001b[1;31mTypeError\u001b[0m                                 Traceback (most recent call last)",
      "\u001b[1;32mpandas\\_libs\\hashtable_class_helper.pxi\u001b[0m in \u001b[0;36mpandas._libs.hashtable.PyObjectHashTable.map_locations\u001b[1;34m()\u001b[0m\n",
      "\u001b[1;31mTypeError\u001b[0m: unhashable type: 'list'"
     ]
    },
    {
     "name": "stderr",
     "output_type": "stream",
     "text": [
      "Exception ignored in: 'pandas._libs.index.IndexEngine._call_map_locations'\n",
      "Traceback (most recent call last):\n",
      "  File \"pandas\\_libs\\hashtable_class_helper.pxi\", line 1709, in pandas._libs.hashtable.PyObjectHashTable.map_locations\n",
      "TypeError: unhashable type: 'list'\n"
     ]
    },
    {
     "data": {
      "text/plain": [
       "[1]          19\n",
       "[2]          19\n",
       "[0]           8\n",
       "[1, 2]        5\n",
       "[1, 0]        3\n",
       "[2, 1]        3\n",
       "[0, 2]        3\n",
       "[0, 1]        2\n",
       "[2, 0]        1\n",
       "[0, 1, 2]     1\n",
       "[2, 0, 1]     1\n",
       "[0, 2, 1]     1\n",
       "Name: topic, dtype: int64"
      ]
     },
     "execution_count": 54,
     "metadata": {},
     "output_type": "execute_result"
    }
   ],
   "source": [
    "documents[documents['star'] == 4]['topic'].value_counts()"
   ]
  },
  {
   "cell_type": "code",
   "execution_count": 55,
   "metadata": {},
   "outputs": [
    {
     "data": {
      "text/plain": [
       "3      Giant NetworkMay 15, 2019Hi, Sorry about the i...\n",
       "6      Giant NetworkMay 4, 2020Hello, dear Madi. Than...\n",
       "7      Giant NetworkOctober 30, 2020We are sorry to h...\n",
       "10     Giant NetworkSeptember 11, 2020Thank you for s...\n",
       "11     Giant NetworkNovember 27, 2020We're so happy t...\n",
       "                             ...                        \n",
       "391    Giant NetworkMay 11, 2020Hello. Team of \"Night...\n",
       "392    Giant NetworkNovember 5, 2018Hi, I am coming l...\n",
       "394    Giant NetworkOctober 9, 2020Thank you for your...\n",
       "396    Giant NetworkAugust 21, 2020This is not an inv...\n",
       "398    Giant NetworkMarch 2, 2021Please send your UID...\n",
       "Name: res, Length: 192, dtype: object"
      ]
     },
     "execution_count": 55,
     "metadata": {},
     "output_type": "execute_result"
    }
   ],
   "source": [
    "documents['res']"
   ]
  },
  {
   "cell_type": "code",
   "execution_count": 57,
   "metadata": {},
   "outputs": [],
   "source": [
    "documents.to_csv('comments.csv')"
   ]
  },
  {
   "cell_type": "code",
   "execution_count": null,
   "metadata": {},
   "outputs": [],
   "source": []
  }
 ],
 "metadata": {
  "kernelspec": {
   "display_name": "Python 3",
   "language": "python",
   "name": "python3"
  },
  "language_info": {
   "codemirror_mode": {
    "name": "ipython",
    "version": 3
   },
   "file_extension": ".py",
   "mimetype": "text/x-python",
   "name": "python",
   "nbconvert_exporter": "python",
   "pygments_lexer": "ipython3",
   "version": "3.7.4"
  }
 },
 "nbformat": 4,
 "nbformat_minor": 4
}
